{
 "cells": [
  {
   "cell_type": "code",
   "execution_count": 1,
   "metadata": {},
   "outputs": [
    {
     "name": "stdout",
     "output_type": "stream",
     "text": [
      "hello\n"
     ]
    }
   ],
   "source": [
    "print(\"hello\")\n"
   ]
  },
  {
   "cell_type": "code",
   "execution_count": 2,
   "metadata": {},
   "outputs": [],
   "source": [
    "# Importing necessary libraries\n",
    "\n",
    "import pandas as pd \n",
    "import numpy as np \n",
    "import matplotlib.pyplot as plt \n"
   ]
  },
  {
   "cell_type": "code",
   "execution_count": 3,
   "metadata": {},
   "outputs": [
    {
     "data": {
      "text/html": [
       "<div>\n",
       "<style scoped>\n",
       "    .dataframe tbody tr th:only-of-type {\n",
       "        vertical-align: middle;\n",
       "    }\n",
       "\n",
       "    .dataframe tbody tr th {\n",
       "        vertical-align: top;\n",
       "    }\n",
       "\n",
       "    .dataframe thead th {\n",
       "        text-align: right;\n",
       "    }\n",
       "</style>\n",
       "<table border=\"1\" class=\"dataframe\">\n",
       "  <thead>\n",
       "    <tr style=\"text-align: right;\">\n",
       "      <th></th>\n",
       "      <th>Year</th>\n",
       "      <th>GDP Per Capita (US $)</th>\n",
       "    </tr>\n",
       "  </thead>\n",
       "  <tbody>\n",
       "    <tr>\n",
       "      <th>0</th>\n",
       "      <td>2021</td>\n",
       "      <td>2503</td>\n",
       "    </tr>\n",
       "    <tr>\n",
       "      <th>1</th>\n",
       "      <td>2020</td>\n",
       "      <td>2270</td>\n",
       "    </tr>\n",
       "    <tr>\n",
       "      <th>2</th>\n",
       "      <td>2019</td>\n",
       "      <td>2154</td>\n",
       "    </tr>\n",
       "    <tr>\n",
       "      <th>3</th>\n",
       "      <td>2018</td>\n",
       "      <td>1991</td>\n",
       "    </tr>\n",
       "    <tr>\n",
       "      <th>4</th>\n",
       "      <td>2017</td>\n",
       "      <td>1840</td>\n",
       "    </tr>\n",
       "    <tr>\n",
       "      <th>...</th>\n",
       "      <td>...</td>\n",
       "      <td>...</td>\n",
       "    </tr>\n",
       "    <tr>\n",
       "      <th>56</th>\n",
       "      <td>1965</td>\n",
       "      <td>106</td>\n",
       "    </tr>\n",
       "    <tr>\n",
       "      <th>57</th>\n",
       "      <td>1964</td>\n",
       "      <td>100</td>\n",
       "    </tr>\n",
       "    <tr>\n",
       "      <th>58</th>\n",
       "      <td>1963</td>\n",
       "      <td>101</td>\n",
       "    </tr>\n",
       "    <tr>\n",
       "      <th>59</th>\n",
       "      <td>1962</td>\n",
       "      <td>100</td>\n",
       "    </tr>\n",
       "    <tr>\n",
       "      <th>60</th>\n",
       "      <td>1961</td>\n",
       "      <td>97</td>\n",
       "    </tr>\n",
       "  </tbody>\n",
       "</table>\n",
       "<p>61 rows × 2 columns</p>\n",
       "</div>"
      ],
      "text/plain": [
       "    Year  GDP Per Capita (US $)\n",
       "0   2021                   2503\n",
       "1   2020                   2270\n",
       "2   2019                   2154\n",
       "3   2018                   1991\n",
       "4   2017                   1840\n",
       "..   ...                    ...\n",
       "56  1965                    106\n",
       "57  1964                    100\n",
       "58  1963                    101\n",
       "59  1962                    100\n",
       "60  1961                     97\n",
       "\n",
       "[61 rows x 2 columns]"
      ]
     },
     "execution_count": 3,
     "metadata": {},
     "output_type": "execute_result"
    }
   ],
   "source": [
    "# Importing the dataset in excel format \n",
    "\n",
    "pd.read_csv('C:/Users/urmi/Desktop/bd-gdp-per-capita60years.csv')"
   ]
  },
  {
   "cell_type": "code",
   "execution_count": 4,
   "metadata": {},
   "outputs": [
    {
     "data": {
      "text/plain": [
       "<bound method NDFrame.head of     Year  GDP Per Capita (US $)\n",
       "0   2021                   2503\n",
       "1   2020                   2270\n",
       "2   2019                   2154\n",
       "3   2018                   1991\n",
       "4   2017                   1840\n",
       "..   ...                    ...\n",
       "56  1965                    106\n",
       "57  1964                    100\n",
       "58  1963                    101\n",
       "59  1962                    100\n",
       "60  1961                     97\n",
       "\n",
       "[61 rows x 2 columns]>"
      ]
     },
     "execution_count": 4,
     "metadata": {},
     "output_type": "execute_result"
    }
   ],
   "source": [
    "# Showing the colomns which will be used \n",
    "\n",
    "dataset = pd.read_csv('C:/Users/urmi/Desktop/bd-gdp-per-capita60years.csv')\n",
    "dataset.head"
   ]
  },
  {
   "cell_type": "code",
   "execution_count": 5,
   "metadata": {},
   "outputs": [
    {
     "data": {
      "text/plain": [
       "(array([[2021],\n",
       "        [2020],\n",
       "        [2019],\n",
       "        [2018],\n",
       "        [2017],\n",
       "        [2016],\n",
       "        [2015],\n",
       "        [2014],\n",
       "        [2013],\n",
       "        [2012],\n",
       "        [2011],\n",
       "        [2010],\n",
       "        [2009],\n",
       "        [2008],\n",
       "        [2007],\n",
       "        [2006],\n",
       "        [2005],\n",
       "        [2004],\n",
       "        [2003],\n",
       "        [2002],\n",
       "        [2001],\n",
       "        [2000],\n",
       "        [1999],\n",
       "        [1998],\n",
       "        [1997],\n",
       "        [1996],\n",
       "        [1995],\n",
       "        [1994],\n",
       "        [1993],\n",
       "        [1992],\n",
       "        [1991],\n",
       "        [1990],\n",
       "        [1989],\n",
       "        [1988],\n",
       "        [1987],\n",
       "        [1986],\n",
       "        [1985],\n",
       "        [1984],\n",
       "        [1983],\n",
       "        [1982],\n",
       "        [1981],\n",
       "        [1980],\n",
       "        [1979],\n",
       "        [1978],\n",
       "        [1977],\n",
       "        [1976],\n",
       "        [1975],\n",
       "        [1974],\n",
       "        [1973],\n",
       "        [1972],\n",
       "        [1971],\n",
       "        [1970],\n",
       "        [1969],\n",
       "        [1968],\n",
       "        [1967],\n",
       "        [1966],\n",
       "        [1965],\n",
       "        [1964],\n",
       "        [1963],\n",
       "        [1962],\n",
       "        [1961]], dtype=int64),\n",
       " array([[2503],\n",
       "        [2270],\n",
       "        [2154],\n",
       "        [1991],\n",
       "        [1840],\n",
       "        [1679],\n",
       "        [1248],\n",
       "        [1119],\n",
       "        [ 982],\n",
       "        [ 883],\n",
       "        [ 861],\n",
       "        [ 781],\n",
       "        [ 702],\n",
       "        [ 635],\n",
       "        [ 558],\n",
       "        [ 509],\n",
       "        [ 499],\n",
       "        [ 475],\n",
       "        [ 446],\n",
       "        [ 413],\n",
       "        [ 415],\n",
       "        [ 418],\n",
       "        [ 409],\n",
       "        [ 407],\n",
       "        [ 401],\n",
       "        [ 394],\n",
       "        [ 329],\n",
       "        [ 299],\n",
       "        [ 300],\n",
       "        [ 294],\n",
       "        [ 293],\n",
       "        [ 306],\n",
       "        [ 285],\n",
       "        [ 270],\n",
       "        [ 254],\n",
       "        [ 233],\n",
       "        [ 245],\n",
       "        [ 214],\n",
       "        [ 204],\n",
       "        [ 220],\n",
       "        [ 247],\n",
       "        [ 227],\n",
       "        [ 200],\n",
       "        [ 176],\n",
       "        [ 131],\n",
       "        [ 141],\n",
       "        [ 277],\n",
       "        [ 182],\n",
       "        [ 119],\n",
       "        [  94],\n",
       "        [ 133],\n",
       "        [ 140],\n",
       "        [ 135],\n",
       "        [ 123],\n",
       "        [ 122],\n",
       "        [ 122],\n",
       "        [ 106],\n",
       "        [ 100],\n",
       "        [ 101],\n",
       "        [ 100],\n",
       "        [  97]], dtype=int64))"
      ]
     },
     "execution_count": 5,
     "metadata": {},
     "output_type": "execute_result"
    }
   ],
   "source": [
    "# Store the data in the form of dependent and independent variables separately\n",
    "\n",
    "X = dataset.iloc[:, 0:1].values \n",
    "y = dataset.iloc[:, 1:].values\n",
    "X, y"
   ]
  },
  {
   "cell_type": "code",
   "execution_count": 6,
   "metadata": {},
   "outputs": [],
   "source": [
    "# Split the Dataset into Training and Test Dataset\n",
    "\n",
    "from sklearn.model_selection import train_test_split\n",
    "X_train, X_test, y_train, y_test = train_test_split(X, y, test_size=0.20, random_state=1)"
   ]
  },
  {
   "cell_type": "code",
   "execution_count": 7,
   "metadata": {},
   "outputs": [
    {
     "data": {
      "text/plain": [
       "(array([[1961],\n",
       "        [1962],\n",
       "        [1963],\n",
       "        [1964],\n",
       "        [1965],\n",
       "        [1966],\n",
       "        [1968],\n",
       "        [1969],\n",
       "        [1971],\n",
       "        [1973],\n",
       "        [1974],\n",
       "        [1976],\n",
       "        [1977],\n",
       "        [1978],\n",
       "        [1983],\n",
       "        [1984],\n",
       "        [1986],\n",
       "        [1988],\n",
       "        [1989],\n",
       "        [1990],\n",
       "        [1991],\n",
       "        [1992],\n",
       "        [1993],\n",
       "        [1994],\n",
       "        [1996],\n",
       "        [1998],\n",
       "        [1999],\n",
       "        [2000],\n",
       "        [2001],\n",
       "        [2002],\n",
       "        [2003],\n",
       "        [2004],\n",
       "        [2005],\n",
       "        [2006],\n",
       "        [2007],\n",
       "        [2008],\n",
       "        [2009],\n",
       "        [2010],\n",
       "        [2011],\n",
       "        [2012],\n",
       "        [2013],\n",
       "        [2014],\n",
       "        [2015],\n",
       "        [2016],\n",
       "        [2017],\n",
       "        [2018],\n",
       "        [2020],\n",
       "        [2021]], dtype=int64),\n",
       " array([[  97],\n",
       "        [ 100],\n",
       "        [ 100],\n",
       "        [ 101],\n",
       "        [ 106],\n",
       "        [ 119],\n",
       "        [ 122],\n",
       "        [ 123],\n",
       "        [ 131],\n",
       "        [ 133],\n",
       "        [ 135],\n",
       "        [ 141],\n",
       "        [ 176],\n",
       "        [ 182],\n",
       "        [ 204],\n",
       "        [ 214],\n",
       "        [ 233],\n",
       "        [ 270],\n",
       "        [ 285],\n",
       "        [ 293],\n",
       "        [ 294],\n",
       "        [ 299],\n",
       "        [ 300],\n",
       "        [ 306],\n",
       "        [ 394],\n",
       "        [ 407],\n",
       "        [ 409],\n",
       "        [ 413],\n",
       "        [ 415],\n",
       "        [ 418],\n",
       "        [ 446],\n",
       "        [ 475],\n",
       "        [ 499],\n",
       "        [ 509],\n",
       "        [ 558],\n",
       "        [ 635],\n",
       "        [ 702],\n",
       "        [ 781],\n",
       "        [ 861],\n",
       "        [ 883],\n",
       "        [ 982],\n",
       "        [1119],\n",
       "        [1248],\n",
       "        [1679],\n",
       "        [1840],\n",
       "        [1991],\n",
       "        [2270],\n",
       "        [2503]], dtype=int64))"
      ]
     },
     "execution_count": 7,
     "metadata": {},
     "output_type": "execute_result"
    }
   ],
   "source": [
    "# Sorting trained dataset\n",
    "\n",
    "X_sorted = np.sort(X_train, axis=0)\n",
    "y_sorted = np.sort(y_train, axis=0)\n",
    "X_sorted, y_sorted\n"
   ]
  },
  {
   "cell_type": "code",
   "execution_count": 8,
   "metadata": {},
   "outputs": [
    {
     "data": {
      "text/plain": [
       "LinearRegression()"
      ]
     },
     "execution_count": 8,
     "metadata": {},
     "output_type": "execute_result"
    }
   ],
   "source": [
    "# Fitting the Simple Linear Regression Model\n",
    "\n",
    "from sklearn.linear_model import LinearRegression\n",
    "LinReg = LinearRegression()\n",
    "LinReg.fit(X_sorted, y_sorted)"
   ]
  },
  {
   "cell_type": "code",
   "execution_count": 9,
   "metadata": {},
   "outputs": [
    {
     "data": {
      "image/png": "[encoded data removed]",
      "text/plain": [
       "<Figure size 432x288 with 1 Axes>"
      ]
     },
     "metadata": {
      "needs_background": "light"
     },
     "output_type": "display_data"
    }
   ],
   "source": [
    "# Visualise the Linear Regression Result\n",
    "\n",
    "plt.scatter(X_sorted, y_sorted, color = 'green')  \n",
    "plt.plot(X_sorted, LinReg.predict(X_sorted), color = 'red') \n",
    "plt.title('Linear Regression') \n",
    "plt.xlabel('YEARS') \n",
    "plt.ylabel('GDP') \n",
    "  \n",
    "plt.show()"
   ]
  },
  {
   "cell_type": "code",
   "execution_count": 10,
   "metadata": {},
   "outputs": [
    {
     "data": {
      "text/plain": [
       "array([[1.000000e+00, 1.961000e+03, 3.845521e+06],\n",
       "       [1.000000e+00, 1.962000e+03, 3.849444e+06],\n",
       "       [1.000000e+00, 1.963000e+03, 3.853369e+06],\n",
       "       [1.000000e+00, 1.964000e+03, 3.857296e+06],\n",
       "       [1.000000e+00, 1.965000e+03, 3.861225e+06],\n",
       "       [1.000000e+00, 1.966000e+03, 3.865156e+06],\n",
       "       [1.000000e+00, 1.968000e+03, 3.873024e+06],\n",
       "       [1.000000e+00, 1.969000e+03, 3.876961e+06],\n",
       "       [1.000000e+00, 1.971000e+03, 3.884841e+06],\n",
       "       [1.000000e+00, 1.973000e+03, 3.892729e+06],\n",
       "       [1.000000e+00, 1.974000e+03, 3.896676e+06],\n",
       "       [1.000000e+00, 1.976000e+03, 3.904576e+06],\n",
       "       [1.000000e+00, 1.977000e+03, 3.908529e+06],\n",
       "       [1.000000e+00, 1.978000e+03, 3.912484e+06],\n",
       "       [1.000000e+00, 1.983000e+03, 3.932289e+06],\n",
       "       [1.000000e+00, 1.984000e+03, 3.936256e+06],\n",
       "       [1.000000e+00, 1.986000e+03, 3.944196e+06],\n",
       "       [1.000000e+00, 1.988000e+03, 3.952144e+06],\n",
       "       [1.000000e+00, 1.989000e+03, 3.956121e+06],\n",
       "       [1.000000e+00, 1.990000e+03, 3.960100e+06],\n",
       "       [1.000000e+00, 1.991000e+03, 3.964081e+06],\n",
       "       [1.000000e+00, 1.992000e+03, 3.968064e+06],\n",
       "       [1.000000e+00, 1.993000e+03, 3.972049e+06],\n",
       "       [1.000000e+00, 1.994000e+03, 3.976036e+06],\n",
       "       [1.000000e+00, 1.996000e+03, 3.984016e+06],\n",
       "       [1.000000e+00, 1.998000e+03, 3.992004e+06],\n",
       "       [1.000000e+00, 1.999000e+03, 3.996001e+06],\n",
       "       [1.000000e+00, 2.000000e+03, 4.000000e+06],\n",
       "       [1.000000e+00, 2.001000e+03, 4.004001e+06],\n",
       "       [1.000000e+00, 2.002000e+03, 4.008004e+06],\n",
       "       [1.000000e+00, 2.003000e+03, 4.012009e+06],\n",
       "       [1.000000e+00, 2.004000e+03, 4.016016e+06],\n",
       "       [1.000000e+00, 2.005000e+03, 4.020025e+06],\n",
       "       [1.000000e+00, 2.006000e+03, 4.024036e+06],\n",
       "       [1.000000e+00, 2.007000e+03, 4.028049e+06],\n",
       "       [1.000000e+00, 2.008000e+03, 4.032064e+06],\n",
       "       [1.000000e+00, 2.009000e+03, 4.036081e+06],\n",
       "       [1.000000e+00, 2.010000e+03, 4.040100e+06],\n",
       "       [1.000000e+00, 2.011000e+03, 4.044121e+06],\n",
       "       [1.000000e+00, 2.012000e+03, 4.048144e+06],\n",
       "       [1.000000e+00, 2.013000e+03, 4.052169e+06],\n",
       "       [1.000000e+00, 2.014000e+03, 4.056196e+06],\n",
       "       [1.000000e+00, 2.015000e+03, 4.060225e+06],\n",
       "       [1.000000e+00, 2.016000e+03, 4.064256e+06],\n",
       "       [1.000000e+00, 2.017000e+03, 4.068289e+06],\n",
       "       [1.000000e+00, 2.018000e+03, 4.072324e+06],\n",
       "       [1.000000e+00, 2.020000e+03, 4.080400e+06],\n",
       "       [1.000000e+00, 2.021000e+03, 4.084441e+06]])"
      ]
     },
     "execution_count": 10,
     "metadata": {},
     "output_type": "execute_result"
    }
   ],
   "source": [
    "# Add the polynomial term to the equation/model (2nd Order)\n",
    "\n",
    "from sklearn.preprocessing import PolynomialFeatures \n",
    "polynom = PolynomialFeatures(degree = 2) \n",
    "X_polynom = polynom.fit_transform(X_sorted)\n",
    "\n",
    "X_polynom"
   ]
  },
  {
   "cell_type": "code",
   "execution_count": 11,
   "metadata": {},
   "outputs": [
    {
     "data": {
      "text/plain": [
       "PolynomialFeatures()"
      ]
     },
     "execution_count": 11,
     "metadata": {},
     "output_type": "execute_result"
    }
   ],
   "source": [
    "# Fitting the Polynomial Regression Model \n",
    "\n",
    "PolyReg = LinearRegression()\n",
    "PolyReg.fit(X_polynom, y_sorted)\n",
    "polynom.fit(X_polynom, y_sorted)"
   ]
  },
  {
   "cell_type": "code",
   "execution_count": 12,
   "metadata": {},
   "outputs": [
    {
     "data": {
      "image/png": "[encoded data removed]",
      "text/plain": [
       "<Figure size 432x288 with 1 Axes>"
      ]
     },
     "metadata": {
      "needs_background": "light"
     },
     "output_type": "display_data"
    }
   ],
   "source": [
    "# Visualise the Polynomial Regression Results \n",
    "\n",
    "plt.scatter(X_sorted, y_sorted, color = 'green')  \n",
    "plt.plot(X_sorted, PolyReg.predict(polynom.fit_transform(X_sorted)), color = 'blue') \n",
    "plt.title('Polynomial Regression Degree-2') \n",
    "plt.xlabel('YEARS') \n",
    "plt.ylabel('GDP') \n",
    "  \n",
    "plt.show()"
   ]
  },
  {
   "cell_type": "code",
   "execution_count": 13,
   "metadata": {},
   "outputs": [
    {
     "data": {
      "text/plain": [
       "array([[1.00000000e+00, 1.96100000e+03, 3.84552100e+06, 7.54106668e+09],\n",
       "       [1.00000000e+00, 1.96200000e+03, 3.84944400e+06, 7.55260913e+09],\n",
       "       [1.00000000e+00, 1.96300000e+03, 3.85336900e+06, 7.56416335e+09],\n",
       "       [1.00000000e+00, 1.96400000e+03, 3.85729600e+06, 7.57572934e+09],\n",
       "       [1.00000000e+00, 1.96500000e+03, 3.86122500e+06, 7.58730712e+09],\n",
       "       [1.00000000e+00, 1.96600000e+03, 3.86515600e+06, 7.59889670e+09],\n",
       "       [1.00000000e+00, 1.96800000e+03, 3.87302400e+06, 7.62211123e+09],\n",
       "       [1.00000000e+00, 1.96900000e+03, 3.87696100e+06, 7.63373621e+09],\n",
       "       [1.00000000e+00, 1.97100000e+03, 3.88484100e+06, 7.65702161e+09],\n",
       "       [1.00000000e+00, 1.97300000e+03, 3.89272900e+06, 7.68035432e+09],\n",
       "       [1.00000000e+00, 1.97400000e+03, 3.89667600e+06, 7.69203842e+09],\n",
       "       [1.00000000e+00, 1.97600000e+03, 3.90457600e+06, 7.71544218e+09],\n",
       "       [1.00000000e+00, 1.97700000e+03, 3.90852900e+06, 7.72716183e+09],\n",
       "       [1.00000000e+00, 1.97800000e+03, 3.91248400e+06, 7.73889335e+09],\n",
       "       [1.00000000e+00, 1.98300000e+03, 3.93228900e+06, 7.79772909e+09],\n",
       "       [1.00000000e+00, 1.98400000e+03, 3.93625600e+06, 7.80953190e+09],\n",
       "       [1.00000000e+00, 1.98600000e+03, 3.94419600e+06, 7.83317326e+09],\n",
       "       [1.00000000e+00, 1.98800000e+03, 3.95214400e+06, 7.85686227e+09],\n",
       "       [1.00000000e+00, 1.98900000e+03, 3.95612100e+06, 7.86872467e+09],\n",
       "       [1.00000000e+00, 1.99000000e+03, 3.96010000e+06, 7.88059900e+09],\n",
       "       [1.00000000e+00, 1.99100000e+03, 3.96408100e+06, 7.89248527e+09],\n",
       "       [1.00000000e+00, 1.99200000e+03, 3.96806400e+06, 7.90438349e+09],\n",
       "       [1.00000000e+00, 1.99300000e+03, 3.97204900e+06, 7.91629366e+09],\n",
       "       [1.00000000e+00, 1.99400000e+03, 3.97603600e+06, 7.92821578e+09],\n",
       "       [1.00000000e+00, 1.99600000e+03, 3.98401600e+06, 7.95209594e+09],\n",
       "       [1.00000000e+00, 1.99800000e+03, 3.99200400e+06, 7.97602399e+09],\n",
       "       [1.00000000e+00, 1.99900000e+03, 3.99600100e+06, 7.98800600e+09],\n",
       "       [1.00000000e+00, 2.00000000e+03, 4.00000000e+06, 8.00000000e+09],\n",
       "       [1.00000000e+00, 2.00100000e+03, 4.00400100e+06, 8.01200600e+09],\n",
       "       [1.00000000e+00, 2.00200000e+03, 4.00800400e+06, 8.02402401e+09],\n",
       "       [1.00000000e+00, 2.00300000e+03, 4.01200900e+06, 8.03605403e+09],\n",
       "       [1.00000000e+00, 2.00400000e+03, 4.01601600e+06, 8.04809606e+09],\n",
       "       [1.00000000e+00, 2.00500000e+03, 4.02002500e+06, 8.06015012e+09],\n",
       "       [1.00000000e+00, 2.00600000e+03, 4.02403600e+06, 8.07221622e+09],\n",
       "       [1.00000000e+00, 2.00700000e+03, 4.02804900e+06, 8.08429434e+09],\n",
       "       [1.00000000e+00, 2.00800000e+03, 4.03206400e+06, 8.09638451e+09],\n",
       "       [1.00000000e+00, 2.00900000e+03, 4.03608100e+06, 8.10848673e+09],\n",
       "       [1.00000000e+00, 2.01000000e+03, 4.04010000e+06, 8.12060100e+09],\n",
       "       [1.00000000e+00, 2.01100000e+03, 4.04412100e+06, 8.13272733e+09],\n",
       "       [1.00000000e+00, 2.01200000e+03, 4.04814400e+06, 8.14486573e+09],\n",
       "       [1.00000000e+00, 2.01300000e+03, 4.05216900e+06, 8.15701620e+09],\n",
       "       [1.00000000e+00, 2.01400000e+03, 4.05619600e+06, 8.16917874e+09],\n",
       "       [1.00000000e+00, 2.01500000e+03, 4.06022500e+06, 8.18135338e+09],\n",
       "       [1.00000000e+00, 2.01600000e+03, 4.06425600e+06, 8.19354010e+09],\n",
       "       [1.00000000e+00, 2.01700000e+03, 4.06828900e+06, 8.20573891e+09],\n",
       "       [1.00000000e+00, 2.01800000e+03, 4.07232400e+06, 8.21794983e+09],\n",
       "       [1.00000000e+00, 2.02000000e+03, 4.08040000e+06, 8.24240800e+09],\n",
       "       [1.00000000e+00, 2.02100000e+03, 4.08444100e+06, 8.25465526e+09]])"
      ]
     },
     "execution_count": 13,
     "metadata": {},
     "output_type": "execute_result"
    }
   ],
   "source": [
    "# Add the polynomial term to the equation/model (3rd Order)\n",
    "\n",
    "from sklearn.preprocessing import PolynomialFeatures \n",
    "polynom = PolynomialFeatures(degree = 3) \n",
    "X_polynom = polynom.fit_transform(X_sorted)\n",
    "\n",
    "X_polynom"
   ]
  },
  {
   "cell_type": "code",
   "execution_count": 14,
   "metadata": {},
   "outputs": [
    {
     "data": {
      "text/plain": [
       "PolynomialFeatures(degree=3)"
      ]
     },
     "execution_count": 14,
     "metadata": {},
     "output_type": "execute_result"
    }
   ],
   "source": [
    "# Fitting the Polynomial Regression Model \n",
    "\n",
    "PolyReg = LinearRegression()\n",
    "PolyReg.fit(X_polynom, y_sorted)\n",
    "polynom.fit(X_polynom, y_sorted)"
   ]
  },
  {
   "cell_type": "code",
   "execution_count": 15,
   "metadata": {},
   "outputs": [
    {
     "data": {
      "image/png": "[encoded data removed]",
      "text/plain": [
       "<Figure size 432x288 with 1 Axes>"
      ]
     },
     "metadata": {
      "needs_background": "light"
     },
     "output_type": "display_data"
    }
   ],
   "source": [
    "# Visualise the Polynomial Regression Results \n",
    "\n",
    "plt.scatter(X_sorted, y_sorted, color = 'green')  \n",
    "plt.plot(X_sorted, PolyReg.predict(polynom.fit_transform(X_sorted)), color = 'blue') \n",
    "plt.title('Polynomial Regression Degree-3') \n",
    "plt.xlabel('YEARS') \n",
    "plt.ylabel('GDP') \n",
    "  \n",
    "plt.show()"
   ]
  },
  {
   "cell_type": "code",
   "execution_count": 16,
   "metadata": {},
   "outputs": [
    {
     "data": {
      "text/plain": [
       "array([[1.00000000e+00, 1.96100000e+03, 3.84552100e+06, 7.54106668e+09,\n",
       "        1.47880318e+13],\n",
       "       [1.00000000e+00, 1.96200000e+03, 3.84944400e+06, 7.55260913e+09,\n",
       "        1.48182191e+13],\n",
       "       [1.00000000e+00, 1.96300000e+03, 3.85336900e+06, 7.56416335e+09,\n",
       "        1.48484527e+13],\n",
       "       [1.00000000e+00, 1.96400000e+03, 3.85729600e+06, 7.57572934e+09,\n",
       "        1.48787324e+13],\n",
       "       [1.00000000e+00, 1.96500000e+03, 3.86122500e+06, 7.58730712e+09,\n",
       "        1.49090585e+13],\n",
       "       [1.00000000e+00, 1.96600000e+03, 3.86515600e+06, 7.59889670e+09,\n",
       "        1.49394309e+13],\n",
       "       [1.00000000e+00, 1.96800000e+03, 3.87302400e+06, 7.62211123e+09,\n",
       "        1.50003149e+13],\n",
       "       [1.00000000e+00, 1.96900000e+03, 3.87696100e+06, 7.63373621e+09,\n",
       "        1.50308266e+13],\n",
       "       [1.00000000e+00, 1.97100000e+03, 3.88484100e+06, 7.65702161e+09,\n",
       "        1.50919896e+13],\n",
       "       [1.00000000e+00, 1.97300000e+03, 3.89272900e+06, 7.68035432e+09,\n",
       "        1.51533391e+13],\n",
       "       [1.00000000e+00, 1.97400000e+03, 3.89667600e+06, 7.69203842e+09,\n",
       "        1.51840838e+13],\n",
       "       [1.00000000e+00, 1.97600000e+03, 3.90457600e+06, 7.71544218e+09,\n",
       "        1.52457137e+13],\n",
       "       [1.00000000e+00, 1.97700000e+03, 3.90852900e+06, 7.72716183e+09,\n",
       "        1.52765989e+13],\n",
       "       [1.00000000e+00, 1.97800000e+03, 3.91248400e+06, 7.73889335e+09,\n",
       "        1.53075311e+13],\n",
       "       [1.00000000e+00, 1.98300000e+03, 3.93228900e+06, 7.79772909e+09,\n",
       "        1.54628968e+13],\n",
       "       [1.00000000e+00, 1.98400000e+03, 3.93625600e+06, 7.80953190e+09,\n",
       "        1.54941113e+13],\n",
       "       [1.00000000e+00, 1.98600000e+03, 3.94419600e+06, 7.83317326e+09,\n",
       "        1.55566821e+13],\n",
       "       [1.00000000e+00, 1.98800000e+03, 3.95214400e+06, 7.85686227e+09,\n",
       "        1.56194422e+13],\n",
       "       [1.00000000e+00, 1.98900000e+03, 3.95612100e+06, 7.86872467e+09,\n",
       "        1.56508934e+13],\n",
       "       [1.00000000e+00, 1.99000000e+03, 3.96010000e+06, 7.88059900e+09,\n",
       "        1.56823920e+13],\n",
       "       [1.00000000e+00, 1.99100000e+03, 3.96408100e+06, 7.89248527e+09,\n",
       "        1.57139382e+13],\n",
       "       [1.00000000e+00, 1.99200000e+03, 3.96806400e+06, 7.90438349e+09,\n",
       "        1.57455319e+13],\n",
       "       [1.00000000e+00, 1.99300000e+03, 3.97204900e+06, 7.91629366e+09,\n",
       "        1.57771733e+13],\n",
       "       [1.00000000e+00, 1.99400000e+03, 3.97603600e+06, 7.92821578e+09,\n",
       "        1.58088623e+13],\n",
       "       [1.00000000e+00, 1.99600000e+03, 3.98401600e+06, 7.95209594e+09,\n",
       "        1.58723835e+13],\n",
       "       [1.00000000e+00, 1.99800000e+03, 3.99200400e+06, 7.97602399e+09,\n",
       "        1.59360959e+13],\n",
       "       [1.00000000e+00, 1.99900000e+03, 3.99600100e+06, 7.98800600e+09,\n",
       "        1.59680240e+13],\n",
       "       [1.00000000e+00, 2.00000000e+03, 4.00000000e+06, 8.00000000e+09,\n",
       "        1.60000000e+13],\n",
       "       [1.00000000e+00, 2.00100000e+03, 4.00400100e+06, 8.01200600e+09,\n",
       "        1.60320240e+13],\n",
       "       [1.00000000e+00, 2.00200000e+03, 4.00800400e+06, 8.02402401e+09,\n",
       "        1.60640961e+13],\n",
       "       [1.00000000e+00, 2.00300000e+03, 4.01200900e+06, 8.03605403e+09,\n",
       "        1.60962162e+13],\n",
       "       [1.00000000e+00, 2.00400000e+03, 4.01601600e+06, 8.04809606e+09,\n",
       "        1.61283845e+13],\n",
       "       [1.00000000e+00, 2.00500000e+03, 4.02002500e+06, 8.06015012e+09,\n",
       "        1.61606010e+13],\n",
       "       [1.00000000e+00, 2.00600000e+03, 4.02403600e+06, 8.07221622e+09,\n",
       "        1.61928657e+13],\n",
       "       [1.00000000e+00, 2.00700000e+03, 4.02804900e+06, 8.08429434e+09,\n",
       "        1.62251787e+13],\n",
       "       [1.00000000e+00, 2.00800000e+03, 4.03206400e+06, 8.09638451e+09,\n",
       "        1.62575401e+13],\n",
       "       [1.00000000e+00, 2.00900000e+03, 4.03608100e+06, 8.10848673e+09,\n",
       "        1.62899498e+13],\n",
       "       [1.00000000e+00, 2.01000000e+03, 4.04010000e+06, 8.12060100e+09,\n",
       "        1.63224080e+13],\n",
       "       [1.00000000e+00, 2.01100000e+03, 4.04412100e+06, 8.13272733e+09,\n",
       "        1.63549147e+13],\n",
       "       [1.00000000e+00, 2.01200000e+03, 4.04814400e+06, 8.14486573e+09,\n",
       "        1.63874698e+13],\n",
       "       [1.00000000e+00, 2.01300000e+03, 4.05216900e+06, 8.15701620e+09,\n",
       "        1.64200736e+13],\n",
       "       [1.00000000e+00, 2.01400000e+03, 4.05619600e+06, 8.16917874e+09,\n",
       "        1.64527260e+13],\n",
       "       [1.00000000e+00, 2.01500000e+03, 4.06022500e+06, 8.18135338e+09,\n",
       "        1.64854271e+13],\n",
       "       [1.00000000e+00, 2.01600000e+03, 4.06425600e+06, 8.19354010e+09,\n",
       "        1.65181768e+13],\n",
       "       [1.00000000e+00, 2.01700000e+03, 4.06828900e+06, 8.20573891e+09,\n",
       "        1.65509754e+13],\n",
       "       [1.00000000e+00, 2.01800000e+03, 4.07232400e+06, 8.21794983e+09,\n",
       "        1.65838228e+13],\n",
       "       [1.00000000e+00, 2.02000000e+03, 4.08040000e+06, 8.24240800e+09,\n",
       "        1.66496642e+13],\n",
       "       [1.00000000e+00, 2.02100000e+03, 4.08444100e+06, 8.25465526e+09,\n",
       "        1.66826583e+13]])"
      ]
     },
     "execution_count": 16,
     "metadata": {},
     "output_type": "execute_result"
    }
   ],
   "source": [
    "# Add the polynomial term to the equation/model (4th Order)\n",
    "\n",
    "from sklearn.preprocessing import PolynomialFeatures \n",
    "polynom = PolynomialFeatures(degree = 4) \n",
    "X_polynom = polynom.fit_transform(X_sorted)\n",
    "\n",
    "X_polynom"
   ]
  },
  {
   "cell_type": "code",
   "execution_count": 17,
   "metadata": {},
   "outputs": [
    {
     "data": {
      "text/plain": [
       "PolynomialFeatures(degree=4)"
      ]
     },
     "execution_count": 17,
     "metadata": {},
     "output_type": "execute_result"
    }
   ],
   "source": [
    "# Fitting the Polynomial Regression Model \n",
    "\n",
    "PolyReg = LinearRegression()\n",
    "PolyReg.fit(X_polynom, y_sorted)\n",
    "polynom.fit(X_polynom, y_sorted)"
   ]
  },
  {
   "cell_type": "code",
   "execution_count": 18,
   "metadata": {},
   "outputs": [
    {
     "data": {
      "image/png": "[encoded data removed]",
      "text/plain": [
       "<Figure size 432x288 with 1 Axes>"
      ]
     },
     "metadata": {
      "needs_background": "light"
     },
     "output_type": "display_data"
    }
   ],
   "source": [
    "# Visualise the Polynomial Regression Results \n",
    "\n",
    "plt.scatter(X_sorted, y_sorted, color = 'green')  \n",
    "plt.plot(X_sorted, PolyReg.predict(polynom.fit_transform(X_sorted)), color = 'blue') \n",
    "plt.title('Polynomial Regression Degree-4') \n",
    "plt.xlabel('YEARS') \n",
    "plt.ylabel('GDP') \n",
    "  \n",
    "plt.show()"
   ]
  },
  {
   "cell_type": "code",
   "execution_count": 19,
   "metadata": {},
   "outputs": [
    {
     "name": "stdout",
     "output_type": "stream",
     "text": [
      "Optimum Value of Ridge : {'alpha': 9.5}\n"
     ]
    }
   ],
   "source": [
    "# Hyperparameter tuning of Ridge Regression\n",
    "from sklearn.model_selection import GridSearchCV\n",
    "from sklearn.model_selection import RepeatedKFold\n",
    "from sklearn.linear_model import Ridge\n",
    "\n",
    "model = Ridge()\n",
    "\n",
    "cv = RepeatedKFold(n_splits=6, n_repeats=3, random_state=1)\n",
    "\n",
    "grid = dict()\n",
    "grid['alpha'] = np.arange(0, 10, 0.5)\n",
    "\n",
    "search = GridSearchCV(model, grid, scoring='r2', cv=cv, n_jobs=-1)\n",
    "\n",
    "results = search.fit(X_sorted, y_sorted)\n",
    "\n",
    "print('Optimum Value of Ridge : %s' % results.best_params_)"
   ]
  },
  {
   "cell_type": "code",
   "execution_count": 20,
   "metadata": {},
   "outputs": [
    {
     "data": {
      "text/plain": [
       "Ridge(alpha=9.5)"
      ]
     },
     "execution_count": 20,
     "metadata": {},
     "output_type": "execute_result"
    }
   ],
   "source": [
    "# Fitting the Ridge Regression Model\n",
    "\n",
    "from sklearn.linear_model import Ridge\n",
    "\n",
    "RidgeReg = Ridge(alpha=9.5)\n",
    "RidgeReg.fit(X_sorted, y_sorted)"
   ]
  },
  {
   "cell_type": "code",
   "execution_count": 21,
   "metadata": {},
   "outputs": [
    {
     "data": {
      "image/png": "[encoded data removed]",
      "text/plain": [
       "<Figure size 432x288 with 1 Axes>"
      ]
     },
     "metadata": {
      "needs_background": "light"
     },
     "output_type": "display_data"
    }
   ],
   "source": [
    "# Visualise the Ridge Regression Result\n",
    "\n",
    "plt.scatter(X_sorted, y_sorted, color = 'green')  \n",
    "plt.plot(X_sorted, RidgeReg.predict(X_sorted), color = 'orange') \n",
    "plt.title('Ridge Regression') \n",
    "plt.xlabel('YEARS') \n",
    "plt.ylabel('GDP') \n",
    "  \n",
    "plt.show()"
   ]
  },
  {
   "cell_type": "code",
   "execution_count": 22,
   "metadata": {},
   "outputs": [
    {
     "name": "stdout",
     "output_type": "stream",
     "text": [
      "Optimum Value of Lasso: {'alpha': 9.5}\n"
     ]
    }
   ],
   "source": [
    "# Hyperparameter tuning of Lasso Regression\n",
    "\n",
    "from sklearn.model_selection import GridSearchCV\n",
    "from sklearn.model_selection import RepeatedKFold\n",
    "from sklearn.linear_model import Lasso\n",
    "\n",
    "model = Lasso()\n",
    "\n",
    "cv = RepeatedKFold(n_splits=6, n_repeats=3, random_state=1)\n",
    "\n",
    "grid = dict()\n",
    "grid['alpha'] = np.arange(0, 10, 0.5)\n",
    "\n",
    "search = GridSearchCV(model, grid, scoring='r2', cv=cv, n_jobs=-1)\n",
    "\n",
    "results = search.fit(X_sorted, y_sorted)\n",
    "\n",
    "print('Optimum Value of Lasso: %s' % results.best_params_)"
   ]
  },
  {
   "cell_type": "code",
   "execution_count": 23,
   "metadata": {},
   "outputs": [
    {
     "data": {
      "text/plain": [
       "Lasso(alpha=9.5)"
      ]
     },
     "execution_count": 23,
     "metadata": {},
     "output_type": "execute_result"
    }
   ],
   "source": [
    "# Fitting the Lasso Regression Model\n",
    "\n",
    "from sklearn.linear_model import Lasso\n",
    "\n",
    "LassoReg = Lasso(alpha=9.5)\n",
    "LassoReg.fit(X_sorted, y_sorted)"
   ]
  },
  {
   "cell_type": "code",
   "execution_count": 24,
   "metadata": {},
   "outputs": [
    {
     "data": {
      "image/png": "[encoded data removed]",
      "text/plain": [
       "<Figure size 432x288 with 1 Axes>"
      ]
     },
     "metadata": {
      "needs_background": "light"
     },
     "output_type": "display_data"
    }
   ],
   "source": [
    "# Visualise the Lasso Regression Result\n",
    "\n",
    "plt.scatter(X_sorted, y_sorted, color = 'green')  \n",
    "plt.plot(X_sorted, LassoReg.predict(X_sorted), color = 'purple') \n",
    "plt.title('Lasso Regression') \n",
    "plt.xlabel('YEARS') \n",
    "plt.ylabel('GDP') \n",
    "  \n",
    "plt.show()"
   ]
  },
  {
   "cell_type": "code",
   "execution_count": 25,
   "metadata": {},
   "outputs": [
    {
     "name": "stdout",
     "output_type": "stream",
     "text": [
      "R-Square Error associated with Simple Linear Regression: 0.6651908950226029\n"
     ]
    }
   ],
   "source": [
    "# Predicted GDP from test dataset with Simple Linear Regression\n",
    "\n",
    "y_predict_slr = LinReg.predict(X_test)\n",
    "\n",
    "# Model Evaluation using R-Square for Simple Linear Regression\n",
    "\n",
    "from sklearn import metrics\n",
    "r_square = metrics.r2_score(y_test, y_predict_slr)\n",
    "print('R-Square Error associated with Simple Linear Regression:', r_square)"
   ]
  },
  {
   "cell_type": "code",
   "execution_count": 26,
   "metadata": {},
   "outputs": [
    {
     "name": "stdout",
     "output_type": "stream",
     "text": [
      "R-Square Error associated with Polynomial Regression is: 0.9713586303409005\n"
     ]
    }
   ],
   "source": [
    "# Predicted GDP from test dataset with Polynomial Regression\n",
    "\n",
    "y_predict_pr = PolyReg.predict(polynom.fit_transform(X_test))\n",
    "\n",
    "# Model Evaluation using R-Square for Polynomial Regression\n",
    "\n",
    "from sklearn import metrics\n",
    "r_square = metrics.r2_score(y_test, y_predict_pr)\n",
    "print('R-Square Error associated with Polynomial Regression is:', r_square)"
   ]
  },
  {
   "cell_type": "code",
   "execution_count": 27,
   "metadata": {},
   "outputs": [
    {
     "name": "stdout",
     "output_type": "stream",
     "text": [
      "R-Square Error associated with Ridge regression is: 0.6650866015815384\n"
     ]
    }
   ],
   "source": [
    "# Predicted GDP from test dataset with Ridge regression\n",
    "\n",
    "y_predict_rr = RidgeReg.predict(X_test)\n",
    "\n",
    "# Model Evaluation using R-Square for Ridge regression\n",
    "\n",
    "from sklearn import metrics\n",
    "r_square = metrics.r2_score(y_test, y_predict_rr)\n",
    "print('R-Square Error associated with Ridge regression is:', r_square)"
   ]
  },
  {
   "cell_type": "code",
   "execution_count": 28,
   "metadata": {},
   "outputs": [
    {
     "name": "stdout",
     "output_type": "stream",
     "text": [
      "R-Square Error associated with Lasso regression is: 0.6649920787158445\n"
     ]
    }
   ],
   "source": [
    "# Predicted GDP from test dataset with Lasso regression\n",
    "\n",
    "y_predict_lar = LassoReg.predict(X_test)\n",
    "\n",
    "# Model Evaluation using R-Square for Lasso regression\n",
    "\n",
    "from sklearn import metrics\n",
    "r_square = metrics.r2_score(y_test, y_predict_lar)\n",
    "print('R-Square Error associated with Lasso regression is:', r_square)"
   ]
  },
  {
   "cell_type": "code",
   "execution_count": 29,
   "metadata": {},
   "outputs": [
    {
     "data": {
      "text/plain": [
       "array([[1293.54879558]])"
      ]
     },
     "execution_count": 29,
     "metadata": {},
     "output_type": "execute_result"
    }
   ],
   "source": [
    "# Predicting GDP based on YEAR using Linear Regression \n",
    "\n",
    "LinReg.predict([[2022]])"
   ]
  },
  {
   "cell_type": "code",
   "execution_count": 30,
   "metadata": {},
   "outputs": [
    {
     "data": {
      "text/plain": [
       "array([[2515.05182162]])"
      ]
     },
     "execution_count": 30,
     "metadata": {},
     "output_type": "execute_result"
    }
   ],
   "source": [
    "# Predicting GDP based on YEAR using Polynomial Regression \n",
    "\n",
    "PolyReg.predict(polynom.fit_transform([[2022]]))"
   ]
  },
  {
   "cell_type": "code",
   "execution_count": 31,
   "metadata": {},
   "outputs": [
    {
     "data": {
      "text/plain": [
       "array([[1293.10708991]])"
      ]
     },
     "execution_count": 31,
     "metadata": {},
     "output_type": "execute_result"
    }
   ],
   "source": [
    "# Predicting GDP based on YEAR using Ridge Regression \n",
    "\n",
    "RidgeReg.predict([[2022]])"
   ]
  },
  {
   "cell_type": "code",
   "execution_count": 32,
   "metadata": {},
   "outputs": [
    {
     "data": {
      "text/plain": [
       "array([1292.70839261])"
      ]
     },
     "execution_count": 32,
     "metadata": {},
     "output_type": "execute_result"
    }
   ],
   "source": [
    "# Predicting GDP based on YEAR using Lasso Regression \n",
    "\n",
    "LassoReg.predict([[2022]])\n"
   ]
  },
  {
   "cell_type": "code",
   "execution_count": null,
   "metadata": {},
   "outputs": [],
   "source": []
  }
 ],
 "metadata": {
  "kernelspec": {
   "display_name": "Python 3",
   "language": "python",
   "name": "python3"
  },
  "language_info": {
   "codemirror_mode": {
    "name": "ipython",
    "version": 3
   },
   "file_extension": ".py",
   "mimetype": "text/x-python",
   "name": "python",
   "nbconvert_exporter": "python",
   "pygments_lexer": "ipython3",
   "version": "3.8.5"
  }
 },
 "nbformat": 4,
 "nbformat_minor": 4
}
